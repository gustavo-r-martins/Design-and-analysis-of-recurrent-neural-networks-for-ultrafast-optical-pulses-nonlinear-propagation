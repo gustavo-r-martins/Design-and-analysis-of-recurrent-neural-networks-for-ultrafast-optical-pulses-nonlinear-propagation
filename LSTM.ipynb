{
  "cells": [
    {
      "cell_type": "markdown",
      "metadata": {
        "id": "UezVFNdSBHZL"
      },
      "source": [
        "**Conecting to Drive**"
      ]
    },
    {
      "cell_type": "code",
      "execution_count": null,
      "metadata": {
        "colab": {
          "base_uri": "https://localhost:8080/"
        },
        "id": "aFAMgQveHMWp",
        "outputId": "a68f58aa-677b-45f9-8938-c3c1622ee203"
      },
      "outputs": [
        {
          "output_type": "stream",
          "name": "stdout",
          "text": [
            "Drive already mounted at /content/drive; to attempt to forcibly remount, call drive.mount(\"/content/drive\", force_remount=True).\n"
          ]
        }
      ],
      "source": [
        "from google.colab import drive\n",
        "\n",
        "import numpy as np\n",
        "import pandas as pd\n",
        "import tensorflow as tf\n",
        "import scipy.io as sio\n",
        "\n",
        "drive.mount('/content/drive')"
      ]
    },
    {
      "cell_type": "markdown",
      "metadata": {
        "id": "X0O8aziKreNo"
      },
      "source": [
        "# Modules"
      ]
    },
    {
      "cell_type": "code",
      "execution_count": null,
      "metadata": {
        "id": "lVLrz1jPJVry"
      },
      "outputs": [],
      "source": [
        "from sklearn.preprocessing import MinMaxScaler\n",
        "from sklearn.model_selection import train_test_split\n",
        "\n",
        "def load_data(data, window_size=1, scaler=None, scale='linear', logmin=-55, shuffle=True, train_size=2900, \n",
        "              data_format='channels_last', seed=0):\n",
        "    \"\"\"\n",
        "    Parameters\n",
        "    -----------\n",
        "    data : ndarray\n",
        "      Simulation data, `shape=(steps_size+1, features, num_simuls)`\n",
        "    window_size : integer, optional\n",
        "      LSTM timesteps\n",
        "    scaler : `Scaler`, optional\n",
        "      `None` (default), or `Scaler` to normalization\n",
        "    shuffle : boolean, optional\n",
        "      Shuffle dataset\n",
        "    train_size : integer\n",
        "      Number of simulation used for training\n",
        "    data_format : string, optional\n",
        "      `'channels_last'` (default), or `'channels_first'`\n",
        "    seed : integer, optional\n",
        "      Seed for reproducibility\n",
        "\n",
        "    Returns\n",
        "    -----------\n",
        "    x_train : ndarray\n",
        "      Training data input, `shape=(train_size*steps_size, window_size, features)`\n",
        "    x_test : ndarray\n",
        "      Test data input, `shape=(test_size*steps_size, window_size, features)`\n",
        "    y_train : ndarray\n",
        "      Training data output, `shape=(train_size*steps_size, features)`\n",
        "    y_test : ndarray\n",
        "      Test data output, `shape=(test_size*steps_size, features)`\n",
        "    scaler : `Scaler`\n",
        "      `Scaler` to denormalization\n",
        "    \"\"\"\n",
        "    # for reproducibility\n",
        "    np.random.seed(seed=seed)\n",
        "\n",
        "    # steps, features, num_simulations\n",
        "    N, F, S = data.shape\n",
        "    N = N - 1                             # steps size\n",
        "    ts = window_size + 1                  # window size (timesteps)\n",
        "\n",
        "    # transform data\n",
        "    if scale == 'log':\n",
        "        data = 10*np.log10(data)\n",
        "        data[data<logmin] = logmin\n",
        "\n",
        "    # normalize data\n",
        "    if scaler == None:\n",
        "        scaler = MinMaxScaler()\n",
        "        norm = scaler.fit_transform(data.reshape([-1,1]))\n",
        "    else:\n",
        "        norm = scaler.transform(data.reshape([-1,1]))\n",
        "\n",
        "    data = norm.reshape(data.shape)\n",
        "\n",
        "    # tile the beginning of the evolution with 'window_size' input profiles\n",
        "    cold = np.tile(data[0,:,:], (window_size-1,1,1))\n",
        "    data = np.concatenate((cold,data))\n",
        "\n",
        "    # dataset\n",
        "    dataset = np.zeros((S*N,ts,F))\n",
        "\n",
        "    range_S = np.arange(S)\n",
        "    if shuffle:\n",
        "        np.random.shuffle(range_S)\n",
        "\n",
        "    s = 0\n",
        "    for m in range_S:\n",
        "        for n in range(N):\n",
        "            dataset[s] = data[n:n+ts,:,m]\n",
        "            s += 1\n",
        "\n",
        "    # dataset division:\n",
        "    x_data = dataset[:,0:ts-1,:]\n",
        "    y_data = dataset[:,ts-1,:]\n",
        "\n",
        "    x_train, x_test, y_train, y_test = train_test_split(x_data, y_data, train_size=train_size*N, shuffle=False)\n",
        "\n",
        "    return x_train, x_test, y_train, y_test, scaler\n",
        "\n",
        "def build_model(input, output, lstm_units=300, lstm_actv='tanh', \n",
        "                dense_units=161, dense_actv='relu', dropout_rate=0.0, \n",
        "                optimizer='Adam', learning_rate=1e-4, loss='mse'):\n",
        "    \"\"\"\n",
        "    Parameters\n",
        "    -----------\n",
        "    input : ndarray\n",
        "      Training data input, `shape=(train_size*steps_size, window_size, features)`\n",
        "    output : ndarray\n",
        "      Training data output, `shape=(train_size*steps_size, features)`\n",
        "    lstm_units : integer, optional\n",
        "      Units in LSTM layer\n",
        "    lstm_actv : string, optional\n",
        "      Activation function of the LSTM layer\n",
        "    dense_units : integer, optional\n",
        "      Units in Dense layer\n",
        "    dense_actv : string, optional\n",
        "      Activation function of the Dense layer\n",
        "    optimizer : string, optional\n",
        "      Optimizer method: `RMSProp`, `Adam` (Default), or `AdamW`\n",
        "    dropout_rate : float, optional\n",
        "      Float between 0 and 1. Fraction of the input units to drop.\n",
        "    loss : string, optional\n",
        "      Optimizer loss function.\n",
        "\n",
        "    Returns\n",
        "    -----------\n",
        "    model : keras model\n",
        "    \"\"\"\n",
        "    # define model architecture\n",
        "    model = tf.keras.models.Sequential()\n",
        "\n",
        "    model.add(tf.keras.layers.LSTM(lstm_units, activation=lstm_actv, return_sequences=False, input_shape=input.shape[1:]))\n",
        "    model.add(tf.keras.layers.Dropout(dropout_rate))\n",
        "    model.add(tf.keras.layers.Dense(dense_units, activation=dense_actv))\n",
        "    model.add(tf.keras.layers.Dense(dense_units, activation=dense_actv))\n",
        "    model.add(tf.keras.layers.Dense(output.shape[1], activation='sigmoid'))\n",
        "\n",
        "    # compile model\n",
        "    if optimizer == 'RMSProp':\n",
        "        opt = tf.keras.optimizers.RMSprop(learning_rate, rho=0.9)\n",
        "    elif optimizer == 'Adam':\n",
        "        opt = tf.keras.optimizers.Adam(learning_rate, epsilon=1e-7)\n",
        "\n",
        "    model.compile(loss=loss, optimizer=opt)\n",
        "    return model\n",
        "\n",
        "def update_model(model, optimizer='Adam', learning_rate=1e-5, loss='mse'):\n",
        "    \"\"\"\n",
        "    Parameters\n",
        "    -----------\n",
        "    model : keras model\n",
        "      Keras model to update\n",
        "    optimizer : string, optional\n",
        "      Optimizer method: `RMSProp`, `Adam` (Default)\n",
        "    learning_rate : float, optional\n",
        "      Optimizer learning rate\n",
        "    loss : string, optional\n",
        "      Optimizer loss function\n",
        "\n",
        "    Returns\n",
        "    -----------\n",
        "    model : keras model\n",
        "      Updated keras model\n",
        "    \"\"\"\n",
        "    # compile model\n",
        "    if optimizer == 'RMSProp':\n",
        "        opt = tf.keras.optimizers.RMSprop(learning_rate, rho=0.9)\n",
        "    elif optimizer == 'Adam':\n",
        "        opt = tf.keras.optimizers.Adam(learning_rate, epsilon=1e-7)\n",
        "\n",
        "    model.compile(loss=loss, optimizer=opt)\n",
        "    return model\n",
        "\n",
        "def predict(model, x_test, steps_size):\n",
        "    \"\"\"\n",
        "    Parameters\n",
        "    -----------\n",
        "    model : keras model\n",
        "    x_test : ndarray\n",
        "      Test data input, `shape=(test_size*steps_size, window_size, features)`\n",
        "    steps_size : integer\n",
        "      Number of propagation steps\n",
        "\n",
        "    Returns\n",
        "    -----------\n",
        "    y_pred : ndarray\n",
        "      Estimated data output, `shape=(test_size*steps_size, features)`\n",
        "    \"\"\"\n",
        "    N = steps_size\n",
        "    batch, timesteps, features = x_test.shape\n",
        "\n",
        "    # inputs\n",
        "    x_pred = x_test[0::N]\n",
        "    y_pred = np.zeros((batch, 1, features))\n",
        "\n",
        "    # predict\n",
        "    for n in range(N):\n",
        "        y_pred[n::N,0,:] = model.predict(x_pred, verbose=0)\n",
        "        x_pred = np.concatenate((x_pred[:,1:,:], y_pred[n::N]), axis=1)\n",
        "\n",
        "    return y_pred.squeeze()"
      ]
    },
    {
      "cell_type": "markdown",
      "metadata": {
        "id": "Fcf98NTogjgi"
      },
      "source": [
        "# Propagation Problem"
      ]
    },
    {
      "cell_type": "markdown",
      "metadata": {
        "id": "-yvgXstLnEaz"
      },
      "source": [
        "## Data"
      ]
    },
    {
      "cell_type": "code",
      "execution_count": null,
      "metadata": {
        "id": "fFDzLAKoHlQJ",
        "colab": {
          "base_uri": "https://localhost:8080/"
        },
        "outputId": "8816b8ed-a559-4a5b-fd53-a37d8b64f27c"
      },
      "outputs": [
        {
          "output_type": "stream",
          "name": "stdout",
          "text": [
            "(290000, 10, 256) (10000, 10, 256) (290000, 256) (10000, 256)\n"
          ]
        }
      ],
      "source": [
        "# load data with scipy.io:\n",
        "path = '/content/drive/MyDrive/Colab Notebooks/Mestrado/Design and analysis of recurrent neural networks for ultrafast optical pulses nonlinear propagation (2022)'\n",
        "\n",
        "# params\n",
        "window_size = 10      # window size (timesteps)\n",
        "N = 101 - 1           # steps size\n",
        "\n",
        "data = sio.loadmat(datapath + '/data/sech_time.mat')['data']\n",
        "# data = sio.loadmat(path + '/data/gaussian_time.mat')['data']\n",
        "# data = sio.loadmat(path + '/data/sech_P40W_T3ps_time.mat')['data']\n",
        "# data = sio.loadmat(path + '/data/sech_P50W_T5ps_time.mat')['data']\n",
        "# data = sio.loadmat(path + '/data/sech_P70W_T5ps_time.mat')['data']\n",
        "\n",
        "x_train, x_test, y_train, y_test, scaler = load_data(data, window_size, scale='linear')\n",
        "\n",
        "print(x_train.shape, x_test.shape, y_train.shape, y_test.shape)"
      ]
    },
    {
      "cell_type": "markdown",
      "metadata": {
        "id": "MRrtX9U3nILv"
      },
      "source": [
        "## Model"
      ]
    },
    {
      "cell_type": "code",
      "execution_count": null,
      "metadata": {
        "colab": {
          "base_uri": "https://localhost:8080/"
        },
        "id": "ul_cizkOlcdS",
        "outputId": "a7af6c88-39eb-446f-bb6d-06549ca4b414"
      },
      "outputs": [
        {
          "output_type": "stream",
          "name": "stdout",
          "text": [
            "Model: \"sequential\"\n",
            "_________________________________________________________________\n",
            " Layer (type)                Output Shape              Param #   \n",
            "=================================================================\n",
            " lstm (LSTM)                 (None, 10, 256)           525312    \n",
            "                                                                 \n",
            " lstm_1 (LSTM)               (None, 10, 256)           525312    \n",
            "                                                                 \n",
            " lstm_2 (LSTM)               (None, 256)               525312    \n",
            "                                                                 \n",
            " dropout (Dropout)           (None, 256)               0         \n",
            "                                                                 \n",
            " dense (Dense)               (None, 256)               65792     \n",
            "                                                                 \n",
            " dense_1 (Dense)             (None, 256)               65792     \n",
            "                                                                 \n",
            " dense_2 (Dense)             (None, 256)               65792     \n",
            "                                                                 \n",
            "=================================================================\n",
            "Total params: 1,773,312\n",
            "Trainable params: 1,773,312\n",
            "Non-trainable params: 0\n",
            "_________________________________________________________________\n",
            "Epoch 1/30\n",
            "8157/8157 - 72s - loss: 9.4494e-04 - val_loss: 1.0274e-04 - 72s/epoch - 9ms/step\n",
            "Epoch 2/30\n",
            "8157/8157 - 58s - loss: 6.7858e-05 - val_loss: 6.0812e-05 - 58s/epoch - 7ms/step\n",
            "Epoch 3/30\n",
            "8157/8157 - 58s - loss: 4.3534e-05 - val_loss: 3.3966e-05 - 58s/epoch - 7ms/step\n",
            "Epoch 4/30\n",
            "8157/8157 - 58s - loss: 3.3497e-05 - val_loss: 2.8914e-05 - 58s/epoch - 7ms/step\n",
            "Epoch 5/30\n",
            "8157/8157 - 58s - loss: 2.7188e-05 - val_loss: 2.3239e-05 - 58s/epoch - 7ms/step\n",
            "Epoch 6/30\n",
            "8157/8157 - 58s - loss: 2.2780e-05 - val_loss: 1.7876e-05 - 58s/epoch - 7ms/step\n",
            "Epoch 7/30\n",
            "8157/8157 - 57s - loss: 1.9824e-05 - val_loss: 1.9231e-05 - 57s/epoch - 7ms/step\n",
            "Epoch 8/30\n",
            "8157/8157 - 58s - loss: 1.7628e-05 - val_loss: 1.5424e-05 - 58s/epoch - 7ms/step\n",
            "Epoch 9/30\n",
            "8157/8157 - 58s - loss: 1.5885e-05 - val_loss: 1.4751e-05 - 58s/epoch - 7ms/step\n",
            "Epoch 10/30\n",
            "8157/8157 - 56s - loss: 1.4175e-05 - val_loss: 1.4824e-05 - 56s/epoch - 7ms/step\n",
            "Epoch 11/30\n",
            "8157/8157 - 57s - loss: 1.3106e-05 - val_loss: 1.1283e-05 - 57s/epoch - 7ms/step\n",
            "Epoch 12/30\n",
            "8157/8157 - 57s - loss: 1.2100e-05 - val_loss: 1.0461e-05 - 57s/epoch - 7ms/step\n",
            "Epoch 13/30\n",
            "8157/8157 - 58s - loss: 1.1081e-05 - val_loss: 1.0265e-05 - 58s/epoch - 7ms/step\n",
            "Epoch 14/30\n",
            "8157/8157 - 58s - loss: 1.0448e-05 - val_loss: 1.1884e-05 - 58s/epoch - 7ms/step\n",
            "Epoch 15/30\n",
            "8157/8157 - 59s - loss: 9.7015e-06 - val_loss: 8.9405e-06 - 59s/epoch - 7ms/step\n",
            "Epoch 16/30\n",
            "8157/8157 - 57s - loss: 9.2746e-06 - val_loss: 8.2599e-06 - 57s/epoch - 7ms/step\n",
            "Epoch 17/30\n",
            "8157/8157 - 58s - loss: 8.6626e-06 - val_loss: 6.4570e-06 - 58s/epoch - 7ms/step\n",
            "Epoch 18/30\n",
            "8157/8157 - 58s - loss: 8.3518e-06 - val_loss: 6.9387e-06 - 58s/epoch - 7ms/step\n",
            "Epoch 19/30\n",
            "8157/8157 - 58s - loss: 7.9244e-06 - val_loss: 7.1556e-06 - 58s/epoch - 7ms/step\n",
            "Epoch 20/30\n",
            "8157/8157 - 58s - loss: 7.5031e-06 - val_loss: 5.7306e-06 - 58s/epoch - 7ms/step\n",
            "Epoch 21/30\n",
            "8157/8157 - 58s - loss: 7.1261e-06 - val_loss: 6.0581e-06 - 58s/epoch - 7ms/step\n",
            "Epoch 22/30\n",
            "8157/8157 - 57s - loss: 6.8694e-06 - val_loss: 7.5362e-06 - 57s/epoch - 7ms/step\n",
            "Epoch 23/30\n",
            "8157/8157 - 57s - loss: 6.6280e-06 - val_loss: 5.8164e-06 - 57s/epoch - 7ms/step\n",
            "Epoch 24/30\n",
            "8157/8157 - 57s - loss: 6.3720e-06 - val_loss: 6.0737e-06 - 57s/epoch - 7ms/step\n",
            "Epoch 25/30\n",
            "8157/8157 - 57s - loss: 6.0860e-06 - val_loss: 6.1845e-06 - 57s/epoch - 7ms/step\n",
            "Epoch 26/30\n",
            "8157/8157 - 57s - loss: 5.9522e-06 - val_loss: 1.0776e-05 - 57s/epoch - 7ms/step\n",
            "Epoch 27/30\n",
            "8157/8157 - 57s - loss: 5.7950e-06 - val_loss: 6.4342e-06 - 57s/epoch - 7ms/step\n",
            "Epoch 28/30\n",
            "8157/8157 - 57s - loss: 5.5568e-06 - val_loss: 5.6676e-06 - 57s/epoch - 7ms/step\n",
            "Epoch 29/30\n",
            "8157/8157 - 57s - loss: 5.3947e-06 - val_loss: 5.0638e-06 - 57s/epoch - 7ms/step\n",
            "Epoch 30/30\n",
            "8157/8157 - 57s - loss: 5.2650e-06 - val_loss: 5.2301e-06 - 57s/epoch - 7ms/step\n",
            "Epoch 1/10\n",
            "8157/8157 - 62s - loss: 3.3787e-06 - val_loss: 3.4319e-06 - 62s/epoch - 8ms/step\n",
            "Epoch 2/10\n",
            "8157/8157 - 56s - loss: 3.3299e-06 - val_loss: 3.4215e-06 - 56s/epoch - 7ms/step\n",
            "Epoch 3/10\n",
            "8157/8157 - 57s - loss: 3.3012e-06 - val_loss: 3.3290e-06 - 57s/epoch - 7ms/step\n",
            "Epoch 4/10\n",
            "8157/8157 - 57s - loss: 3.2770e-06 - val_loss: 3.3345e-06 - 57s/epoch - 7ms/step\n",
            "Epoch 5/10\n",
            "8157/8157 - 57s - loss: 3.2542e-06 - val_loss: 3.3405e-06 - 57s/epoch - 7ms/step\n",
            "Epoch 6/10\n",
            "8157/8157 - 57s - loss: 3.2320e-06 - val_loss: 3.2955e-06 - 57s/epoch - 7ms/step\n",
            "Epoch 7/10\n",
            "8157/8157 - 57s - loss: 3.2137e-06 - val_loss: 3.2522e-06 - 57s/epoch - 7ms/step\n",
            "Epoch 8/10\n",
            "8157/8157 - 57s - loss: 3.1914e-06 - val_loss: 3.2369e-06 - 57s/epoch - 7ms/step\n",
            "Epoch 9/10\n",
            "8157/8157 - 57s - loss: 3.1727e-06 - val_loss: 3.2428e-06 - 57s/epoch - 7ms/step\n",
            "Epoch 10/10\n",
            "8157/8157 - 57s - loss: 3.1533e-06 - val_loss: 3.2466e-06 - 57s/epoch - 7ms/step\n",
            "Epoch 1/10\n",
            "8157/8157 - 63s - loss: 3.0550e-06 - val_loss: 3.1348e-06 - 63s/epoch - 8ms/step\n",
            "Epoch 2/10\n",
            "8157/8157 - 57s - loss: 3.0503e-06 - val_loss: 3.1340e-06 - 57s/epoch - 7ms/step\n",
            "Epoch 3/10\n",
            "8157/8157 - 57s - loss: 3.0480e-06 - val_loss: 3.1316e-06 - 57s/epoch - 7ms/step\n",
            "Epoch 4/10\n",
            "8157/8157 - 58s - loss: 3.0457e-06 - val_loss: 3.1304e-06 - 58s/epoch - 7ms/step\n",
            "Epoch 5/10\n",
            "8157/8157 - 57s - loss: 3.0434e-06 - val_loss: 3.1260e-06 - 57s/epoch - 7ms/step\n",
            "Epoch 6/10\n",
            "8157/8157 - 57s - loss: 3.0414e-06 - val_loss: 3.1276e-06 - 57s/epoch - 7ms/step\n",
            "Epoch 7/10\n",
            "8157/8157 - 57s - loss: 3.0393e-06 - val_loss: 3.1233e-06 - 57s/epoch - 7ms/step\n",
            "Epoch 8/10\n",
            "8157/8157 - 57s - loss: 3.0374e-06 - val_loss: 3.1260e-06 - 57s/epoch - 7ms/step\n",
            "Epoch 9/10\n",
            "8157/8157 - 57s - loss: 3.0353e-06 - val_loss: 3.1269e-06 - 57s/epoch - 7ms/step\n",
            "Epoch 10/10\n",
            "8157/8157 - 58s - loss: 3.0333e-06 - val_loss: 3.1165e-06 - 58s/epoch - 7ms/step\n"
          ]
        }
      ],
      "source": [
        "# model\n",
        "lstm_units, dense_units = 512, 161\n",
        "\n",
        "model = build_model(x_train, y_train, lstm_units=lstm_units, lstm_actv='tanh', \n",
        "                    dense_units=dense_units, dropout_rate=0.0, optimizer='RMSProp')\n",
        "\n",
        "model.summary()\n",
        "\n",
        "checkpointer = tf.keras.callbacks.ModelCheckpoint(path+ '/nets/LSTM.h5', \n",
        "                                                  verbose=0, save_best_only=True)\n",
        "\n",
        "history = model.fit(x_train, y_train, epochs=30, validation_split=0.1, \n",
        "                    shuffle=True, verbose=2, callbacks=[checkpointer])\n",
        "\n",
        "#################################### UPDATE ####################################\n",
        "model = update_model(model, optimizer='RMSProp', learning_rate=1e-5)\n",
        "\n",
        "history = model.fit(x_train, y_train, epochs=30, validation_split=0.1, \n",
        "                    shuffle=True, verbose=2, callbacks=[checkpointer])\n",
        "\n",
        "# #################################### UPDATE ####################################\n",
        "model = update_model(model, optimizer='RMSProp', learning_rate=1e-6)\n",
        "\n",
        "history = model.fit(x_train, y_train, epochs=30, validation_split=0.1, \n",
        "                    shuffle=True, verbose=2, callbacks=[checkpointer])\n",
        "\n",
        "model.load_weights(path + '/nets/LSTM.h5')"
      ]
    },
    {
      "cell_type": "markdown",
      "metadata": {
        "id": "qv3ukHmWrYpx"
      },
      "source": [
        "Different values can be found given the stochastic nature of the model."
      ]
    },
    {
      "cell_type": "markdown",
      "metadata": {
        "id": "jkcHn-N3nLzL"
      },
      "source": [
        "## Metrics"
      ]
    },
    {
      "cell_type": "code",
      "execution_count": null,
      "metadata": {
        "colab": {
          "base_uri": "https://localhost:8080/"
        },
        "id": "V6xT5cP6GPq3",
        "outputId": "a9ac09e3-633c-461b-f202-b1d9aed50aaa"
      },
      "outputs": [
        {
          "output_type": "stream",
          "name": "stdout",
          "text": [
            "RMSE = 0.024404\n",
            "NRMSE = 0.045293\n",
            "MSE  = 0.000887\n",
            "MAE  = 0.013804\n",
            "R2   = 0.866934\n"
          ]
        }
      ],
      "source": [
        "from sklearn.metrics import mean_squared_error\n",
        "from sklearn.metrics import r2_score\n",
        "from sklearn.metrics import mean_absolute_error\n",
        "\n",
        "# Step-by-Step prediction:\n",
        "y_pred = predict(model, x_test, N)\n",
        "\n",
        "# Metrics\n",
        "MSE = mean_squared_error(y_test, y_pred, squared=True)\n",
        "RMSE = mean_squared_error(y_test, y_pred, squared=False)\n",
        "NRMSE = np.sqrt(np.sum((y_test - y_pred)**2)/np.sum(y_test**2))\n",
        "R2 = r2_score(y_test, y_pred)\n",
        "MAE = mean_absolute_error(y_test, y_pred)\n",
        "\n",
        "print('RMSE = %.6f' % RMSE)\n",
        "print('NRMSE = %.6f' % NRMSE)\n",
        "print('MSE  = %.6f' % MSE)\n",
        "print('MAE  = %.6f' % MAE)\n",
        "print('R2   = %.6f' % R2)"
      ]
    },
    {
      "cell_type": "markdown",
      "source": [
        "The best networks weights are saved"
      ],
      "metadata": {
        "id": "MjKu4_RjxyhM"
      }
    },
    {
      "cell_type": "code",
      "execution_count": null,
      "metadata": {
        "id": "AQKvazvkayjA"
      },
      "outputs": [],
      "source": [
        "data = {'Nets': 'LSTM'+str(lstm_units)+'_2Dense'+str(dense_units)+'_ts'+str(window_size)+'_sech_time',\n",
        "        'ts': window_size,\n",
        "        'RMSE': RMSE,\n",
        "        'NRMSE': NRMSE,\n",
        "        'MSE': MSE, \n",
        "        'MAE': MAE, \n",
        "        'R2': R2,\n",
        "        'Details': '''def build_model(input, output, lstm_units=300, lstm_actv='tanh', \n",
        "                                      dense_units=161, dense_actv='relu', dropout_rate=0.0, \n",
        "                                      loss='mean_squared_error'):\n",
        "  \n",
        "                        # define model architecture\n",
        "                        model = tf.keras.models.Sequential()\n",
        "\n",
        "                        model.add(tf.keras.layers.LSTM(lstm_units, activation=lstm_actv, return_sequences=False, input_shape=input.shape[1:]))\n",
        "                        model.add(tf.keras.layers.Dropout(dropout_rate))\n",
        "                        model.add(tf.keras.layers.Dense(dense_units, activation=dense_actv))\n",
        "                        model.add(tf.keras.layers.Dense(dense_units, activation=dense_actv))\n",
        "                        model.add(tf.keras.layers.Dense(output.shape[1], activation='sigmoid'))\n",
        "\n",
        "                        return model'''}\n",
        "\n",
        "dataframe = pd.DataFrame(data=data, index=[0])\n",
        "\n",
        "dataframe.to_csv(path + '/results/LSTM'+str(lstm_units)+'_2Dense'+str(dense_units)+'_ts'+str(window_size)+'_sech_time.csv', header=True)\n",
        "model.save(path + '/nets/LSTM'+str(lstm_units)+'_2Dense'+str(dense_units)+'_ts'+str(window_size)+'_sech_time.h5')"
      ]
    }
  ],
  "metadata": {
    "accelerator": "GPU",
    "colab": {
      "collapsed_sections": [],
      "machine_shape": "hm",
      "provenance": []
    },
    "gpuClass": "standard",
    "kernelspec": {
      "display_name": "Python 3",
      "name": "python3"
    }
  },
  "nbformat": 4,
  "nbformat_minor": 0
}