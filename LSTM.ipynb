{
  "cells": [
    {
      "cell_type": "markdown",
      "metadata": {
        "id": "UezVFNdSBHZL"
      },
      "source": [
        "**Conecting to Drive**"
      ]
    },
    {
      "cell_type": "code",
      "execution_count": null,
      "metadata": {
        "colab": {
          "base_uri": "https://localhost:8080/"
        },
        "id": "aFAMgQveHMWp",
        "outputId": "843573e5-42a9-482e-877e-d88806e08cd7"
      },
      "outputs": [
        {
          "output_type": "stream",
          "name": "stdout",
          "text": [
            "Drive already mounted at /content/drive; to attempt to forcibly remount, call drive.mount(\"/content/drive\", force_remount=True).\n"
          ]
        }
      ],
      "source": [
        "from google.colab import drive\n",
        "\n",
        "import numpy as np\n",
        "import pandas as pd\n",
        "import tensorflow as tf\n",
        "import scipy.io as sio\n",
        "\n",
        "drive.mount('/content/drive')"
      ]
    },
    {
      "cell_type": "markdown",
      "metadata": {
        "id": "X0O8aziKreNo"
      },
      "source": [
        "# Modules"
      ]
    },
    {
      "cell_type": "code",
      "execution_count": null,
      "metadata": {
        "id": "lVLrz1jPJVry"
      },
      "outputs": [],
      "source": [
        "from sklearn.preprocessing import MinMaxScaler\n",
        "from sklearn.model_selection import train_test_split\n",
        "\n",
        "def load_data(data, window_size=1, scaler=None, scale='linear', logmin=-55, shuffle=True, train_size=2900, \n",
        "              data_format='channels_last', seed=0):\n",
        "    \"\"\"\n",
        "    Parameters\n",
        "    -----------\n",
        "    data : ndarray\n",
        "      Simulation data, `shape=(steps_size+1, features, num_simuls)`\n",
        "    window_size : integer, optional\n",
        "      LSTM timesteps\n",
        "    scaler : `Scaler`, optional\n",
        "      `None` (default), or `Scaler` to normalization\n",
        "    shuffle : boolean, optional\n",
        "      Shuffle dataset\n",
        "    train_size : integer\n",
        "      Number of simulation used for training\n",
        "    data_format : string, optional\n",
        "      `'channels_last'` (default), or `'channels_first'`\n",
        "    seed : integer, optional\n",
        "      Seed for reproducibility\n",
        "\n",
        "    Returns\n",
        "    -----------\n",
        "    x_train : ndarray\n",
        "      Training data input, `shape=(train_size*steps_size, window_size, features)`\n",
        "    x_test : ndarray\n",
        "      Test data input, `shape=(test_size*steps_size, window_size, features)`\n",
        "    y_train : ndarray\n",
        "      Training data output, `shape=(train_size*steps_size, features)`\n",
        "    y_test : ndarray\n",
        "      Test data output, `shape=(test_size*steps_size, features)`\n",
        "    scaler : `Scaler`\n",
        "      `Scaler` to denormalization\n",
        "    \"\"\"\n",
        "    # for reproducibility\n",
        "    np.random.seed(seed=seed)\n",
        "\n",
        "    # steps, features, num_simulations\n",
        "    N, F, S = data.shape\n",
        "    N = N - 1                             # steps size\n",
        "    ts = window_size + 1                  # window size (timesteps)\n",
        "\n",
        "    # transform data\n",
        "    if scale == 'log':\n",
        "        data = 10*np.log10(data)\n",
        "        data[data<logmin] = logmin\n",
        "\n",
        "    # normalize data\n",
        "    if scaler == None:\n",
        "        scaler = MinMaxScaler()\n",
        "        norm = scaler.fit_transform(data.reshape([-1,1]))\n",
        "    else:\n",
        "        norm = scaler.transform(data.reshape([-1,1]))\n",
        "\n",
        "    data = norm.reshape(data.shape)\n",
        "\n",
        "    # tile the beginning of the evolution with 'window_size' input profiles\n",
        "    cold = np.tile(data[0,:,:], (window_size-1,1,1))\n",
        "    data = np.concatenate((cold,data))\n",
        "\n",
        "    # dataset\n",
        "    dataset = np.zeros((S*N,ts,F))\n",
        "\n",
        "    range_S = np.arange(S)\n",
        "    if shuffle:\n",
        "        np.random.shuffle(range_S)\n",
        "\n",
        "    s = 0\n",
        "    for m in range_S:\n",
        "        for n in range(N):\n",
        "            dataset[s] = data[n:n+ts,:,m]\n",
        "            s += 1\n",
        "\n",
        "    # dataset division:\n",
        "    x_data = dataset[:,0:ts-1,:]\n",
        "    y_data = dataset[:,ts-1,:]\n",
        "\n",
        "    x_train, x_test, y_train, y_test = train_test_split(x_data, y_data, train_size=train_size*N, shuffle=False)\n",
        "\n",
        "    return x_train, x_test, y_train, y_test, scaler\n",
        "\n",
        "def build_model(input, output, lstm_units=300, lstm_actv='tanh', \n",
        "                dense_units=161, dense_actv='relu', dropout_rate=0.0, \n",
        "                optimizer='Adam', learning_rate=1e-4, loss='mse'):\n",
        "    \"\"\"\n",
        "    Parameters\n",
        "    -----------\n",
        "    input : ndarray\n",
        "      Training data input, `shape=(train_size*steps_size, window_size, features)`\n",
        "    output : ndarray\n",
        "      Training data output, `shape=(train_size*steps_size, features)`\n",
        "    lstm_units : integer, optional\n",
        "      Units in LSTM layer\n",
        "    lstm_actv : string, optional\n",
        "      Activation function of the LSTM layer\n",
        "    dense_units : integer, optional\n",
        "      Units in Dense layer\n",
        "    dense_actv : string, optional\n",
        "      Activation function of the Dense layer\n",
        "    optimizer : string, optional\n",
        "      Optimizer method: `RMSProp`, `Adam` (Default), or `AdamW`\n",
        "    dropout_rate : float, optional\n",
        "      Float between 0 and 1. Fraction of the input units to drop.\n",
        "    loss : string, optional\n",
        "      Optimizer loss function.\n",
        "\n",
        "    Returns\n",
        "    -----------\n",
        "    model : keras model\n",
        "    \"\"\"\n",
        "    # define model architecture\n",
        "    model = tf.keras.models.Sequential()\n",
        "\n",
        "    model.add(tf.keras.layers.LSTM(lstm_units, activation=lstm_actv, return_sequences=False, input_shape=input.shape[1:]))\n",
        "    model.add(tf.keras.layers.Dropout(dropout_rate))\n",
        "    model.add(tf.keras.layers.Dense(dense_units, activation=dense_actv))\n",
        "    model.add(tf.keras.layers.Dense(dense_units, activation=dense_actv))\n",
        "    model.add(tf.keras.layers.Dense(output.shape[1], activation='sigmoid'))\n",
        "\n",
        "    # compile model\n",
        "    if optimizer == 'RMSProp':\n",
        "        opt = tf.keras.optimizers.RMSprop(learning_rate, rho=0.9)\n",
        "    elif optimizer == 'Adam':\n",
        "        opt = tf.keras.optimizers.Adam(learning_rate, epsilon=1e-7)\n",
        "\n",
        "    model.compile(loss=loss, optimizer=opt)\n",
        "    return model\n",
        "\n",
        "def update_model(model, optimizer='Adam', learning_rate=1e-5, loss='mse'):\n",
        "    \"\"\"\n",
        "    Parameters\n",
        "    -----------\n",
        "    model : keras model\n",
        "      Keras model to update\n",
        "    optimizer : string, optional\n",
        "      Optimizer method: `RMSProp`, `Adam` (Default)\n",
        "    learning_rate : float, optional\n",
        "      Optimizer learning rate\n",
        "    loss : string, optional\n",
        "      Optimizer loss function\n",
        "\n",
        "    Returns\n",
        "    -----------\n",
        "    model : keras model\n",
        "      Updated keras model\n",
        "    \"\"\"\n",
        "    # compile model\n",
        "    if optimizer == 'RMSProp':\n",
        "        opt = tf.keras.optimizers.RMSprop(learning_rate, rho=0.9)\n",
        "    elif optimizer == 'Adam':\n",
        "        opt = tf.keras.optimizers.Adam(learning_rate, epsilon=1e-7)\n",
        "\n",
        "    model.compile(loss=loss, optimizer=opt)\n",
        "    return model\n",
        "\n",
        "def predict(model, x_test, steps_size):\n",
        "    \"\"\"\n",
        "    Parameters\n",
        "    -----------\n",
        "    model : keras model\n",
        "    x_test : ndarray\n",
        "      Test data input, `shape=(test_size*steps_size, window_size, features)`\n",
        "    steps_size : integer\n",
        "      Number of propagation steps\n",
        "\n",
        "    Returns\n",
        "    -----------\n",
        "    y_pred : ndarray\n",
        "      Estimated data output, `shape=(test_size*steps_size, features)`\n",
        "    \"\"\"\n",
        "    N = steps_size\n",
        "    batch, timesteps, features = x_test.shape\n",
        "\n",
        "    # inputs\n",
        "    x_pred = x_test[0::N]\n",
        "    y_pred = np.zeros((batch, 1, features))\n",
        "\n",
        "    # predict\n",
        "    for n in range(N):\n",
        "        y_pred[n::N,0,:] = model.predict(x_pred, verbose=0)\n",
        "        x_pred = np.concatenate((x_pred[:,1:,:], y_pred[n::N]), axis=1)\n",
        "\n",
        "    return y_pred.squeeze()"
      ]
    },
    {
      "cell_type": "markdown",
      "metadata": {
        "id": "Fcf98NTogjgi"
      },
      "source": [
        "# Propagation Problem"
      ]
    },
    {
      "cell_type": "markdown",
      "metadata": {
        "id": "-yvgXstLnEaz"
      },
      "source": [
        "## Data"
      ]
    },
    {
      "cell_type": "code",
      "execution_count": null,
      "metadata": {
        "id": "fFDzLAKoHlQJ",
        "colab": {
          "base_uri": "https://localhost:8080/"
        },
        "outputId": "83c6f9e9-02d8-4750-db9d-2a8c6adbe71f"
      },
      "outputs": [
        {
          "output_type": "stream",
          "name": "stdout",
          "text": [
            "(290000, 10, 128) (10000, 10, 128) (290000, 128) (10000, 128)\n"
          ]
        }
      ],
      "source": [
        "# load data with scipy.io:\n",
        "path = '/content/drive/MyDrive/Colab Notebooks/Mestrado/Design and analysis of recurrent neural networks for ultrafast optical pulses nonlinear propagation (2022)'\n",
        "\n",
        "# params\n",
        "window_size = 10      # window size (timesteps)\n",
        "N = 101 - 1           # steps size\n",
        "\n",
        "data = sio.loadmat(datapath + '/data/sech_time.mat')['data']\n",
        "# data = sio.loadmat(path + '/data/gaussian_time.mat')['data']\n",
        "# data = sio.loadmat(path + '/data/sech_P40W_T3ps_time.mat')['data']\n",
        "# data = sio.loadmat(path + '/data/sech_P50W_T5ps_time.mat')['data']\n",
        "# data = sio.loadmat(path + '/data/sech_P70W_T5ps_time.mat')['data']\n",
        "\n",
        "x_train, x_test, y_train, y_test, scaler = load_data(data, window_size, scale='linear')\n",
        "\n",
        "print(x_train.shape, x_test.shape, y_train.shape, y_test.shape)"
      ]
    },
    {
      "cell_type": "markdown",
      "metadata": {
        "id": "MRrtX9U3nILv"
      },
      "source": [
        "## Model"
      ]
    },
    {
      "cell_type": "code",
      "execution_count": null,
      "metadata": {
        "id": "pov1i8kvShix"
      },
      "outputs": [],
      "source": [
        "# model\n",
        "lstm_units, dense_units = 512, 161\n",
        "\n",
        "model = build_model(x_train, y_train, lstm_units=lstm_units, lstm_actv='tanh', \n",
        "                    dense_units=dense_units, dropout_rate=0.0, optimizer='RMSProp')\n",
        "\n",
        "model.summary()\n",
        "\n",
        "checkpointer = tf.keras.callbacks.ModelCheckpoint(path+ '/nets/LSTM.h5', \n",
        "                                                  verbose=0, save_best_only=True)\n",
        "\n",
        "history = model.fit(x_train, y_train, epochs=30, validation_split=0.1, \n",
        "                    shuffle=True, verbose=2, callbacks=[checkpointer])\n",
        "\n",
        "#################################### UPDATE ####################################\n",
        "model = update_model(model, optimizer='RMSProp', learning_rate=1e-5)\n",
        "\n",
        "history = model.fit(x_train, y_train, epochs=30, validation_split=0.1, \n",
        "                    shuffle=True, verbose=2, callbacks=[checkpointer])\n",
        "\n",
        "# #################################### UPDATE ####################################\n",
        "model = update_model(model, optimizer='RMSProp', learning_rate=1e-6)\n",
        "\n",
        "history = model.fit(x_train, y_train, epochs=30, validation_split=0.1, \n",
        "                    shuffle=True, verbose=2, callbacks=[checkpointer])\n",
        "\n",
        "model.load_weights(path + '/nets/LSTM.h5')"
      ]
    },
    {
      "cell_type": "markdown",
      "metadata": {
        "id": "qv3ukHmWrYpx"
      },
      "source": [
        "Different values can be found given the stochastic nature of the model. Other models can be tested."
      ]
    },
    {
      "cell_type": "markdown",
      "metadata": {
        "id": "jkcHn-N3nLzL"
      },
      "source": [
        "## Metrics"
      ]
    },
    {
      "cell_type": "code",
      "execution_count": null,
      "metadata": {
        "colab": {
          "base_uri": "https://localhost:8080/"
        },
        "id": "V6xT5cP6GPq3",
        "outputId": "92f32d4e-3c4d-4b37-a077-03b68ec490f8"
      },
      "outputs": [
        {
          "output_type": "stream",
          "name": "stdout",
          "text": [
            "RMSE = 0.032997\n",
            "NRMSE = 0.050887\n",
            "MSE  = 0.001346\n",
            "MAE  = 0.022001\n",
            "R2   = 0.856900\n"
          ]
        }
      ],
      "source": [
        "from sklearn.metrics import mean_squared_error\n",
        "from sklearn.metrics import r2_score\n",
        "from sklearn.metrics import mean_absolute_error\n",
        "\n",
        "# Step-by-Step prediction:\n",
        "y_pred = predict(model, x_test, N)\n",
        "\n",
        "# Metrics\n",
        "MSE = mean_squared_error(y_test, y_pred, squared=True)\n",
        "RMSE = mean_squared_error(y_test, y_pred, squared=False)\n",
        "NRMSE = np.sqrt(np.sum((y_test - y_pred)**2)/np.sum(y_test**2))\n",
        "R2 = r2_score(y_test, y_pred)\n",
        "MAE = mean_absolute_error(y_test, y_pred)\n",
        "\n",
        "print('RMSE = %.6f' % RMSE)\n",
        "print('NRMSE = %.6f' % NRMSE)\n",
        "print('MSE  = %.6f' % MSE)\n",
        "print('MAE  = %.6f' % MAE)\n",
        "print('R2   = %.6f' % R2)"
      ]
    },
    {
      "cell_type": "code",
      "execution_count": null,
      "metadata": {
        "id": "AQKvazvkayjA"
      },
      "outputs": [],
      "source": [
        "data = {'Nets': 'LSTM'+str(lstm_units)+'_2Dense'+str(dense_units)+'_ts'+str(window_size)+'_sech_time',\n",
        "        'ts': window_size,\n",
        "        'RMSE': RMSE,\n",
        "        'NRMSE': NRMSE,\n",
        "        'MSE': MSE, \n",
        "        'MAE': MAE, \n",
        "        'R2': R2,\n",
        "        'Details': '''def build_model(input, output):\n",
        "  \n",
        "                        # define model architecture\n",
        "                        model = tf.keras.models.Sequential()\n",
        "\n",
        "                        model.add(tf.keras.layers.LSTM(lstm_units, activation=lstm_actv, return_sequences=False, input_shape=input.shape[1:]))\n",
        "                        model.add(tf.keras.layers.Dropout(dropout_rate))\n",
        "                        model.add(tf.keras.layers.Dense(dense_units, activation=dense_actv))\n",
        "                        model.add(tf.keras.layers.Dense(dense_units, activation=dense_actv))\n",
        "                        model.add(tf.keras.layers.Dense(output.shape[1], activation='sigmoid'))\n",
        "\n",
        "                        return model'''}\n",
        "\n",
        "dataframe = pd.DataFrame(data=data, index=[0])\n",
        "\n",
        "dataframe.to_csv(path + '/results/LSTM'+str(lstm_units)+'_2Dense'+str(dense_units)+'_ts'+str(window_size)+'_sech_time.csv', header=True)\n",
        "model.save(path + '/nets/LSTM'+str(lstm_units)+'_2Dense'+str(dense_units)+'_ts'+str(window_size)+'_sech_time.h5')"
      ]
    }
  ],
  "metadata": {
    "accelerator": "GPU",
    "colab": {
      "collapsed_sections": [],
      "provenance": [],
      "machine_shape": "hm"
    },
    "gpuClass": "standard",
    "kernelspec": {
      "display_name": "Python 3",
      "name": "python3"
    }
  },
  "nbformat": 4,
  "nbformat_minor": 0
}